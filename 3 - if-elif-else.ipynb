{
 "cells": [
  {
   "cell_type": "markdown",
   "metadata": {},
   "source": [
    "# Conditionals (if - elif - else)\n",
    "\n",
    "The main topic of this chapter is the *if* statement, which\n",
    "executes different code depending on the state of the program.\n",
    "But first I want to introduce two new operators: floor division\n",
    "and modulus.\n",
    "\n",
    "## Floor division and modulus\n",
    "\n",
    "The **floor division** operator, \"//\", divides\n",
    "two numbers and rounds down to an integer.  For example, suppose the\n",
    "run time of a movie is 105 minutes.  You might want to know how\n",
    "long that is in hours.  Conventional division\n",
    "returns a floating-point number:"
   ]
  },
  {
   "cell_type": "code",
   "execution_count": 15,
   "metadata": {},
   "outputs": [
    {
     "name": "stdout",
     "output_type": "stream",
     "text": [
      "1.75\n"
     ]
    }
   ],
   "source": [
    "minutes = 105\n",
    "print(minutes / 60)"
   ]
  },
  {
   "cell_type": "markdown",
   "metadata": {},
   "source": [
    "But we don't normally write hours with decimal points.  Floor\n",
    "division returns the integer number of hours, rounding down:"
   ]
  },
  {
   "cell_type": "code",
   "execution_count": 16,
   "metadata": {},
   "outputs": [
    {
     "name": "stdout",
     "output_type": "stream",
     "text": [
      "1\n"
     ]
    }
   ],
   "source": [
    "minutes = 105\n",
    "hours = minutes // 60\n",
    "print(hours)"
   ]
  },
  {
   "cell_type": "markdown",
   "metadata": {},
   "source": [
    "To get the remainder, you could subtract off one hour in minutes:"
   ]
  },
  {
   "cell_type": "code",
   "execution_count": 17,
   "metadata": {},
   "outputs": [
    {
     "name": "stdout",
     "output_type": "stream",
     "text": [
      "45\n"
     ]
    }
   ],
   "source": [
    "remainder = minutes - hours * 60\n",
    "print(remainder)"
   ]
  },
  {
   "cell_type": "markdown",
   "metadata": {},
   "source": [
    "An alternative is to use the **modulus operator**, \"%\", which\n",
    "divides two numbers and returns the remainder."
   ]
  },
  {
   "cell_type": "code",
   "execution_count": 18,
   "metadata": {},
   "outputs": [
    {
     "name": "stdout",
     "output_type": "stream",
     "text": [
      "45\n"
     ]
    }
   ],
   "source": [
    "remainder = minutes % 60\n",
    "print(remainder)"
   ]
  },
  {
   "cell_type": "markdown",
   "metadata": {},
   "source": [
    "The modulus operator is more useful than it seems.  For\n",
    "example, you can check whether one number is divisible by another---if\n",
    "*x % y* is zero, then *x* is divisible by *y*.\n",
    "\n",
    "Also, you can extract the right-most digit\n",
    "or digits from a number.  For example, *x % 10* yields the\n",
    "right-most digit of *x* (in base 10).  Similarly *x % 100*\n",
    "yields the last two digits."
   ]
  },
  {
   "cell_type": "code",
   "execution_count": 20,
   "metadata": {},
   "outputs": [
    {
     "name": "stdout",
     "output_type": "stream",
     "text": [
      "7 8 9 1\n"
     ]
    }
   ],
   "source": [
    "number=567891\n",
    "digit4=number%10\n",
    "digit3=(number//10)%10\n",
    "digit2=(number//100)%10\n",
    "digit1=(number//1000)%10\n",
    "print(digit1,digit2,digit3,digit4)"
   ]
  },
  {
   "cell_type": "markdown",
   "metadata": {},
   "source": [
    "A **boolean expression** is an expression that is either true\n",
    "or false.  The following examples use the\n",
    "operator *==*, which compares two operands and produces\n",
    "*True* if they are equal and *False* otherwise:"
   ]
  },
  {
   "cell_type": "code",
   "execution_count": 21,
   "metadata": {},
   "outputs": [
    {
     "name": "stdout",
     "output_type": "stream",
     "text": [
      "True\n",
      "False\n"
     ]
    }
   ],
   "source": [
    "print(5 == 5)\n",
    "print(5 == 6)"
   ]
  },
  {
   "cell_type": "markdown",
   "metadata": {},
   "source": [
    "*True* and *False* are special values that belong to the type *bool*; they are not strings:"
   ]
  },
  {
   "cell_type": "code",
   "execution_count": 22,
   "metadata": {},
   "outputs": [
    {
     "name": "stdout",
     "output_type": "stream",
     "text": [
      "<class 'bool'>\n",
      "<class 'bool'>\n"
     ]
    }
   ],
   "source": [
    "print(type(True))\n",
    "print(type(5==6))"
   ]
  },
  {
   "cell_type": "markdown",
   "metadata": {},
   "source": [
    "The *==* operator is one of the **relational operators**; the\n",
    "others are:"
   ]
  },
  {
   "cell_type": "raw",
   "metadata": {},
   "source": [
    "      x != y               # x is not equal to y\n",
    "      x > y                # x is greater than y\n",
    "      x < y                # x is less than y\n",
    "      x >= y               # x is greater than or equal to y\n",
    "      x <= y               # x is less than or equal to y"
   ]
  },
  {
   "cell_type": "markdown",
   "metadata": {},
   "source": [
    "Although these operations are probably familiar to you, the Python\n",
    "symbols are different from the mathematical symbols.  A common error\n",
    "is to use a single equal sign (=) instead of a double equal sign\n",
    "(==).  Remember that = is an assignment operator and\n",
    "== is a relational operator.   There is no such thing as\n",
    "=< or =>."
   ]
  },
  {
   "cell_type": "markdown",
   "metadata": {},
   "source": [
    "## Logical operators\n",
    "\n",
    "There are three **logical operators**: *and*, *or*, and *not*.  The semantics (meaning) of these operators is\n",
    "similar to their meaning in English.  For example,\n",
    "*x > 0 and x < 10* is true only if *x* is greater than 0\n",
    "*and* less than 10.\n",
    "\n",
    "*n%2 == 0 or n%3 == 0* is true if *either or both* of the\n",
    "conditions is true, that is, if the number is divisible by 2 *or*\n",
    "3.\n",
    "\n",
    "Finally, the *not* operator negates a boolean\n",
    "expression, so *not (x > y)* is true if *x > y* is false,\n",
    "that is, if *x* is less than or equal to *y*.\n",
    "\n",
    "Strictly speaking, the operands of the logical operators should be\n",
    "boolean expressions, but Python is not very strict.\n",
    "Any nonzero number is interpreted as *True*:"
   ]
  },
  {
   "cell_type": "code",
   "execution_count": 23,
   "metadata": {},
   "outputs": [
    {
     "name": "stdout",
     "output_type": "stream",
     "text": [
      "True\n"
     ]
    }
   ],
   "source": [
    "print(42 and True)"
   ]
  },
  {
   "cell_type": "markdown",
   "metadata": {},
   "source": [
    "This flexibility can be useful, but there are some subtleties to\n",
    "it that might be confusing.  You might want to avoid it (unless\n",
    "you know what you are doing)."
   ]
  },
  {
   "cell_type": "markdown",
   "metadata": {},
   "source": [
    "## Conditional execution\n",
    "\n",
    "In order to write useful programs, we almost always need the ability\n",
    "to check conditions and change the behavior of the program\n",
    "accordingly.  **Conditional statements** give us this ability.  The\n",
    "simplest form is the *if* statement:"
   ]
  },
  {
   "cell_type": "code",
   "execution_count": 24,
   "metadata": {},
   "outputs": [
    {
     "name": "stdout",
     "output_type": "stream",
     "text": [
      "x is positive\n"
     ]
    }
   ],
   "source": [
    "x=7\n",
    "if x > 0:\n",
    "    print('x is positive')"
   ]
  },
  {
   "cell_type": "markdown",
   "metadata": {},
   "source": [
    "The boolean expression after *if* is\n",
    "called the **condition**.  If it is true, the indented\n",
    "statement runs.  If not, nothing happens.\n",
    "\n",
    "*if* statements have the same structure as function definitions:\n",
    "a header followed by an indented body.  Statements like this are\n",
    "called **compound statements**.\n",
    "\n",
    "There is no limit on the number of statements that can appear in\n",
    "the body, but there has to be at least one.\n",
    "Occasionally, it is useful to have a body with no statements (usually\n",
    "as a place keeper for code you haven't written yet).  In that\n",
    "case, you can use the *pass* statement, which does nothing.\n"
   ]
  },
  {
   "cell_type": "code",
   "execution_count": 25,
   "metadata": {},
   "outputs": [],
   "source": [
    "if x < 0:\n",
    "    pass          # TODO: need to handle negative values!"
   ]
  },
  {
   "cell_type": "markdown",
   "metadata": {},
   "source": [
    "A second form of the *if* statement is \"alternative execution\",\n",
    "in which there are two possibilities and the condition determines\n",
    "which one runs.  The syntax looks like this:"
   ]
  },
  {
   "cell_type": "code",
   "execution_count": 28,
   "metadata": {},
   "outputs": [
    {
     "name": "stdout",
     "output_type": "stream",
     "text": [
      "x is odd\n"
     ]
    }
   ],
   "source": [
    "if x % 2 == 0:\n",
    "    print('x is even')\n",
    "else:\n",
    "    print('x is odd')"
   ]
  },
  {
   "cell_type": "markdown",
   "metadata": {},
   "source": [
    "If the remainder when *x* is divided by 2 is 0, then we know that\n",
    "*x* is even, and the program displays an appropriate message.  If\n",
    "the condition is false, the second set of statements runs.\n",
    "Since the condition must be true or false, exactly one of the\n",
    "alternatives will run.  The alternatives are called **branches**, because they are branches in the flow of execution."
   ]
  },
  {
   "cell_type": "markdown",
   "metadata": {},
   "source": [
    "## Chained conditionals\n",
    "\n",
    "Sometimes there are more than two possibilities and we need more than\n",
    "two branches.  One way to express a computation like that is a **chained conditional**:"
   ]
  },
  {
   "cell_type": "code",
   "execution_count": 29,
   "metadata": {},
   "outputs": [
    {
     "name": "stdout",
     "output_type": "stream",
     "text": [
      "x is less than y\n"
     ]
    }
   ],
   "source": [
    "x=3\n",
    "y=7\n",
    "\n",
    "if x < y:\n",
    "    print('x is less than y')\n",
    "elif x > y:\n",
    "    print('x is greater than y')\n",
    "else:\n",
    "    print('x and y are equal')"
   ]
  },
  {
   "cell_type": "markdown",
   "metadata": {},
   "source": [
    "*elif* is an abbreviation of \"else if'.  Again, exactly one\n",
    "branch will run.  There is no limit on the number of *elif* statements.  If there is an *else* clause, it has to be\n",
    "at the end, but there doesn't have to be one.\n",
    "\n",
    "Each condition is checked in order.  If the first is false,\n",
    "the next is checked, and so on.  If one of them is\n",
    "true, the corresponding branch runs and the statement\n",
    "ends.  Even if more than one condition is true, only the\n",
    "first true branch runs."
   ]
  },
  {
   "cell_type": "markdown",
   "metadata": {},
   "source": [
    "## Nested conditionals\n",
    "\n",
    "One conditional can also be nested within another.  We could have\n",
    "written the example in the previous section like this:"
   ]
  },
  {
   "cell_type": "code",
   "execution_count": 30,
   "metadata": {},
   "outputs": [
    {
     "name": "stdout",
     "output_type": "stream",
     "text": [
      "x is less than y\n"
     ]
    }
   ],
   "source": [
    "if x == y:\n",
    "    print('x and y are equal')\n",
    "else:\n",
    "    if x < y:\n",
    "        print('x is less than y')\n",
    "    else:\n",
    "        print('x is greater than y')"
   ]
  },
  {
   "cell_type": "markdown",
   "metadata": {},
   "source": [
    "The outer conditional contains two branches.  The\n",
    "first branch contains a simple statement.  The second branch\n",
    "contains another *if* statement, which has two branches of its\n",
    "own.  Those two branches are both simple statements,\n",
    "although they could have been conditional statements as well.\n",
    "\n",
    "Although the indentation of the statements makes the structure\n",
    "apparent, **nested conditionals** become difficult to read very\n",
    "quickly.  It is a good idea to avoid them when you can.\n",
    "\n",
    "Logical operators often provide a way to simplify nested conditional\n",
    "statements.  For example, we can rewrite the following code using a\n",
    "single conditional:"
   ]
  },
  {
   "cell_type": "code",
   "execution_count": 31,
   "metadata": {},
   "outputs": [
    {
     "name": "stdout",
     "output_type": "stream",
     "text": [
      "x is a positive single-digit number.\n"
     ]
    }
   ],
   "source": [
    "if 0 < x:\n",
    "    if x < 10:\n",
    "        print('x is a positive single-digit number.')"
   ]
  },
  {
   "cell_type": "markdown",
   "metadata": {},
   "source": [
    "The *print* statement runs only if we make it past both\n",
    "conditionals, so we can get the same effect with the *and* operator"
   ]
  },
  {
   "cell_type": "code",
   "execution_count": 32,
   "metadata": {},
   "outputs": [
    {
     "name": "stdout",
     "output_type": "stream",
     "text": [
      "x is a positive single-digit number.\n"
     ]
    }
   ],
   "source": [
    "if 0 < x and x < 10:\n",
    "    print('x is a positive single-digit number.')"
   ]
  },
  {
   "cell_type": "markdown",
   "metadata": {},
   "source": [
    "For this kind of condition, Python provides a more concise option:"
   ]
  },
  {
   "cell_type": "code",
   "execution_count": 33,
   "metadata": {},
   "outputs": [
    {
     "name": "stdout",
     "output_type": "stream",
     "text": [
      "x is a positive single-digit number.\n"
     ]
    }
   ],
   "source": [
    "if 0 < x < 10:\n",
    "    print('x is a positive single-digit number.')"
   ]
  },
  {
   "cell_type": "markdown",
   "metadata": {},
   "source": [
    "## Exercises\n",
    "\n",
    "**Exercise 1** The *time* module provides a function, also named *time*, that\n",
    "returns the current Greenwich Mean Time in \"the epoch\", which is\n",
    "an arbitrary time used as a reference point.  On UNIX systems, the\n",
    "epoch is 1 January 1970. That is, *time.time()* returns the time passed since 1 January 1970 in seconds:"
   ]
  },
  {
   "cell_type": "code",
   "execution_count": 34,
   "metadata": {},
   "outputs": [
    {
     "name": "stdout",
     "output_type": "stream",
     "text": [
      "1592165454.8032694\n"
     ]
    }
   ],
   "source": [
    "import time\n",
    "print(time.time())"
   ]
  },
  {
   "cell_type": "markdown",
   "metadata": {},
   "source": [
    "Write a script that reads the current time and converts it to\n",
    "a time of day in hours, minutes, and seconds, plus the number of\n",
    "days since the epoch."
   ]
  },
  {
   "cell_type": "code",
   "execution_count": 35,
   "metadata": {},
   "outputs": [],
   "source": [
    "# put your code here"
   ]
  },
  {
   "cell_type": "markdown",
   "metadata": {},
   "source": [
    "**Exercise 2** \n",
    "\n",
    "Fermat's Last Theorem says that there are no positive integers\n",
    "$a$, $b$, and $c$ such that $a^n + b^n = c^n$\n",
    "for any values of $n$ greater than 2.\n",
    "\n",
    "Write a function named *check_fermat* that takes four\n",
    "parameters---$a$, $b$, $c$, and $n$---and\n",
    "checks to see if Fermat's theorem holds.  If\n",
    "$n$ is greater than 2 and $a^n + b^n = c^n$\n",
    "the program should print, \"Holy smokes, Fermat was wrong!\"\n",
    "Otherwise the program should print, \"No, that doesn't work.\""
   ]
  },
  {
   "cell_type": "code",
   "execution_count": 36,
   "metadata": {},
   "outputs": [],
   "source": [
    "# Solution to exercise 2"
   ]
  },
  {
   "cell_type": "markdown",
   "metadata": {},
   "source": [
    "**Exercise 3** \n",
    "\n",
    "If you are given three sticks, you may or may not be able to arrange\n",
    "them in a triangle.  For example, if one of the sticks is 12 inches\n",
    "long and the other two are one inch long, you will\n",
    "not be able to get the short sticks to meet in the middle.  For any\n",
    "three lengths, there is a simple test to see if it is possible to form\n",
    "a triangle:\n",
    "\n",
    "> If any of the three lengths is greater than the sum of the other\n",
    ">  two, then you cannot form a triangle.  Otherwise, you\n",
    ">  can.  (If the sum of two lengths equals the third, they form\n",
    ">    what is called a \"degenerate\" triangle.)\n",
    "\n",
    "Write a function named *is_triangle* that takes three\n",
    "  integers as arguments, and that prints either *Yes* or *No*, depending\n",
    "  on whether you can or cannot form a triangle from sticks with the\n",
    "  given lengths."
   ]
  },
  {
   "cell_type": "code",
   "execution_count": 37,
   "metadata": {},
   "outputs": [],
   "source": [
    "# Solution to exercise 3"
   ]
  }
 ],
 "metadata": {
  "kernelspec": {
   "display_name": "Python 3",
   "language": "python",
   "name": "python3"
  },
  "language_info": {
   "codemirror_mode": {
    "name": "ipython",
    "version": 3
   },
   "file_extension": ".py",
   "mimetype": "text/x-python",
   "name": "python",
   "nbconvert_exporter": "python",
   "pygments_lexer": "ipython3",
   "version": "3.6.9"
  }
 },
 "nbformat": 4,
 "nbformat_minor": 2
}
