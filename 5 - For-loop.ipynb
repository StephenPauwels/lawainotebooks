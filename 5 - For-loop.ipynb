{
 "cells": [
  {
   "cell_type": "markdown",
   "metadata": {},
   "source": [
    "# Chapter 5 : For loops\n",
    "\n",
    "We have just seen the while loop as a way of iterating a piece of code until a termination condition was met. This construction is particularly useful when we do not now on beforehand how often a piece of code will have to be repeated. Often, however, we do now exactly how often we need to repeat the code before the loop starts.\n",
    "\n",
    "Consider, for instance, the following print statements to draw a pyramid:"
   ]
  },
  {
   "cell_type": "code",
   "execution_count": 10,
   "metadata": {},
   "outputs": [
    {
     "name": "stdout",
     "output_type": "stream",
     "text": [
      "   X\n",
      "  XXX\n",
      " XXXXX\n",
      "XXXXXXX\n"
     ]
    }
   ],
   "source": [
    "print(\"   X\")\n",
    "print(\"  XXX\")\n",
    "print(\" XXXXX\")\n",
    "print(\"XXXXXXX\")"
   ]
  },
  {
   "cell_type": "markdown",
   "metadata": {},
   "source": [
    "We could easily write code for a variable length pyramid of height $n$ as follows:\n",
    "- write $n$-1 spaces followed by 1 X\n",
    "- write $n$-2 spaces followed by 3 X\n",
    "- ...\n",
    "- Write $n$-i spaces followed by 2i-1 X\n",
    "- ...\n",
    "- Write 0 spaces followed by 2n-1 X\n",
    "\n",
    "This can be done with a while loop iterating over the different values of $i$:"
   ]
  },
  {
   "cell_type": "code",
   "execution_count": 11,
   "metadata": {},
   "outputs": [
    {
     "name": "stdout",
     "output_type": "stream",
     "text": [
      "   X\n",
      "  XXX\n",
      " XXXXX\n",
      "XXXXXXX\n"
     ]
    }
   ],
   "source": [
    "n=4\n",
    "i=1\n",
    "while i<=n:\n",
    "    print(\" \"*(n-i)+\"X\"*(2*i-1))\n",
    "    i=i+1"
   ]
  },
  {
   "cell_type": "markdown",
   "metadata": {},
   "source": [
    "For such situations where we know on beforehand the number of iterations, and we need the iteration number as a parameter in our code ($i$ in this case), we can alternative use the *for*-loop:"
   ]
  },
  {
   "cell_type": "code",
   "execution_count": 12,
   "metadata": {},
   "outputs": [
    {
     "name": "stdout",
     "output_type": "stream",
     "text": [
      "   X\n",
      "  XXX\n",
      " XXXXX\n",
      "XXXXXXX\n"
     ]
    }
   ],
   "source": [
    "n=4\n",
    "for i in range(1,n+1):\n",
    "    print(\" \"*(n-i)+\"X\"*(2*i-1))\n",
    "    i=i+1"
   ]
  },
  {
   "cell_type": "markdown",
   "metadata": {},
   "source": [
    "Later we will see that *range(1,n+1)* can in fact be seen as a list of numbers from 1 till $n$, and $i$ iterates over that list. Notice that *range(s,e)* produces a list starting from $s$ and ending at $e-1$; hence: $e$ itself is not included.\n",
    "\n",
    "Alternatively we can omit $s$ and write *range(e)* to iterate over all numbers from 0 to $e-1$. Hence, *range(n)* produces $n$ numbers, starting at $0$.\n",
    "\n",
    "We can also add an optional step as a third parameter: *range(s,e,j)*; this will produce all numbers by iteratively adding $j$ to $s$ until you reach $e$. $e$ itself is again not included.\n",
    "\n",
    "Next see some alternative ways to print all multiples of $3$ that are smaller than 100:"
   ]
  },
  {
   "cell_type": "code",
   "execution_count": 13,
   "metadata": {},
   "outputs": [
    {
     "name": "stdout",
     "output_type": "stream",
     "text": [
      "0 3 6 9 12 15 18 21 24 27 30 33 36 39 42 45 48 51 54 57 60 63 66 69 72 75 78 81 84 87 90 93 96 99 "
     ]
    }
   ],
   "source": [
    "for i in range(100):\n",
    "    if i%3==0:\n",
    "        print(i,end=\" \")  # print i followed by a space but no newline"
   ]
  },
  {
   "cell_type": "code",
   "execution_count": 14,
   "metadata": {},
   "outputs": [
    {
     "name": "stdout",
     "output_type": "stream",
     "text": [
      "0 3 6 9 12 15 18 21 24 27 30 33 36 39 42 45 48 51 54 57 60 63 66 69 72 75 78 81 84 87 90 93 96 99 "
     ]
    }
   ],
   "source": [
    "for i in range(0,100,3):\n",
    "    print(i,end=\" \")"
   ]
  },
  {
   "cell_type": "code",
   "execution_count": 15,
   "metadata": {},
   "outputs": [
    {
     "name": "stdout",
     "output_type": "stream",
     "text": [
      "0 3 6 9 12 15 18 21 24 27 30 33 36 39 42 45 48 51 54 57 60 63 66 69 72 75 78 81 84 87 90 93 96 99 "
     ]
    }
   ],
   "source": [
    "i=0\n",
    "while i<100:\n",
    "    print(i,end=\" \")\n",
    "    i=i+3"
   ]
  },
  {
   "cell_type": "markdown",
   "metadata": {},
   "source": [
    "Just like any Python construction, also for-loops can be nested. Consider for instance the following code to produce the tables of multiplication:"
   ]
  },
  {
   "cell_type": "code",
   "execution_count": 16,
   "metadata": {},
   "outputs": [
    {
     "name": "stdout",
     "output_type": "stream",
     "text": [
      "1\t2\t3\t4\t5\t6\t7\t8\t9\t10\t\n",
      "2\t4\t6\t8\t10\t12\t14\t16\t18\t20\t\n",
      "3\t6\t9\t12\t15\t18\t21\t24\t27\t30\t\n",
      "4\t8\t12\t16\t20\t24\t28\t32\t36\t40\t\n",
      "5\t10\t15\t20\t25\t30\t35\t40\t45\t50\t\n",
      "6\t12\t18\t24\t30\t36\t42\t48\t54\t60\t\n",
      "7\t14\t21\t28\t35\t42\t49\t56\t63\t70\t\n",
      "8\t16\t24\t32\t40\t48\t56\t64\t72\t80\t\n",
      "9\t18\t27\t36\t45\t54\t63\t72\t81\t90\t\n",
      "10\t20\t30\t40\t50\t60\t70\t80\t90\t100\t\n"
     ]
    }
   ],
   "source": [
    "for i in range(1,11):\n",
    "    # print the multiples of i\n",
    "    for j in range(1,11):\n",
    "        print(i*j,end=\"\\t\")  # \\t is the tab character \n",
    "    print() # Go to the next line for the next list of multiples"
   ]
  },
  {
   "cell_type": "markdown",
   "metadata": {},
   "source": [
    "## Exercises\n",
    "\n",
    "Given $n$, write a code that prints all numbers from 2 till $n-1$"
   ]
  },
  {
   "cell_type": "code",
   "execution_count": 17,
   "metadata": {},
   "outputs": [],
   "source": [
    "# code goes here"
   ]
  },
  {
   "cell_type": "markdown",
   "metadata": {},
   "source": [
    "Write now a code that prints all divisors different from $1$ and $n$ of a number $n$. Recall that you can test if $i$ divides $n$ with the modulo operator: $i$ is a divisor of $n$ if *n%i==0*"
   ]
  },
  {
   "cell_type": "code",
   "execution_count": 18,
   "metadata": {},
   "outputs": [],
   "source": [
    "# code goes here"
   ]
  },
  {
   "cell_type": "markdown",
   "metadata": {},
   "source": [
    "Extend your code to test if a number is prime. A prime number $n$ has no other divisors than $1$ and $n$; so you can for instance count the number of divisors."
   ]
  },
  {
   "cell_type": "code",
   "execution_count": 19,
   "metadata": {},
   "outputs": [],
   "source": [
    "# code goes here"
   ]
  },
  {
   "cell_type": "markdown",
   "metadata": {},
   "source": [
    "Last but not least: print all prime numbers in the range \\[1,100\\]"
   ]
  },
  {
   "cell_type": "code",
   "execution_count": 20,
   "metadata": {},
   "outputs": [],
   "source": [
    "# code goes here"
   ]
  }
 ],
 "metadata": {
  "kernelspec": {
   "display_name": "Python 3",
   "language": "python",
   "name": "python3"
  },
  "language_info": {
   "codemirror_mode": {
    "name": "ipython",
    "version": 3
   },
   "file_extension": ".py",
   "mimetype": "text/x-python",
   "name": "python",
   "nbconvert_exporter": "python",
   "pygments_lexer": "ipython3",
   "version": "3.6.9"
  }
 },
 "nbformat": 4,
 "nbformat_minor": 2
}
