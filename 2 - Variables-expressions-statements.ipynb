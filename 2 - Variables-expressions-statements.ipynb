{
 "cells": [
  {
   "cell_type": "markdown",
   "metadata": {},
   "source": [
    "# Chapter 2 : Variables, expressions and statements\n",
    "\n",
    "One of the most powerful features of a programming language is the\n",
    "ability to manipulate *variables*.  A variable is a name that\n",
    "refers to a value.\n",
    "\n",
    "## Assignment statements\n",
    "\n",
    "An *assignment statement* creates a new variable and gives\n",
    "it a value:"
   ]
  },
  {
   "cell_type": "code",
   "execution_count": 1,
   "metadata": {},
   "outputs": [],
   "source": [
    "message = 'And now for something completely different'\n",
    "n = 17\n",
    "pi = 3.1415926535897932"
   ]
  },
  {
   "cell_type": "markdown",
   "metadata": {},
   "source": [
    "This example makes three assignments.  The first assigns a string\n",
    "to a new variable named *message*;\n",
    "the second gives the integer 17 to *n*; the third\n",
    "assigns the (approximate) value of $\\pi$ to *pi*.\n",
    "\n",
    "Once values have been assigned to variables, they can be used in any place where Python expects a value:"
   ]
  },
  {
   "cell_type": "code",
   "execution_count": 2,
   "metadata": {},
   "outputs": [
    {
     "name": "stdout",
     "output_type": "stream",
     "text": [
      "And now for something completely different 3.141592653589793 17\n"
     ]
    }
   ],
   "source": [
    "print(message,pi,n)"
   ]
  },
  {
   "cell_type": "markdown",
   "metadata": {},
   "source": [
    "## Variable names\n",
    "\n",
    "Programmers generally choose names for their variables that\n",
    "are meaningful---they document what the variable is used for.\n",
    "\n",
    "Variable names can be as long as you like.  They can contain\n",
    "both letters and numbers, but they can't begin with a number.\n",
    "It is legal to use uppercase letters, but it is conventional\n",
    "to use only lower case for variables names.\n",
    "\n",
    "The underscore character, \\_, can appear in a name.\n",
    "It is often used in names with multiple words, such as\n",
    "*your\\_name* or *airspeed\\_of\\_unladen\\_swallow*.\n",
    "\n",
    "If you give a variable an illegal name, you get a syntax error:"
   ]
  },
  {
   "cell_type": "code",
   "execution_count": 3,
   "metadata": {},
   "outputs": [
    {
     "ename": "SyntaxError",
     "evalue": "invalid syntax (<ipython-input-3-ee59a172c534>, line 1)",
     "output_type": "error",
     "traceback": [
      "\u001b[0;36m  File \u001b[0;32m\"<ipython-input-3-ee59a172c534>\"\u001b[0;36m, line \u001b[0;32m1\u001b[0m\n\u001b[0;31m    76trombones = 'big parade'\u001b[0m\n\u001b[0m              ^\u001b[0m\n\u001b[0;31mSyntaxError\u001b[0m\u001b[0;31m:\u001b[0m invalid syntax\n"
     ]
    }
   ],
   "source": [
    "76trombones = 'big parade'"
   ]
  },
  {
   "cell_type": "code",
   "execution_count": 4,
   "metadata": {
    "collapsed": true
   },
   "outputs": [
    {
     "ename": "FileNotFoundError",
     "evalue": "[Errno 2] No such file or directory: '@ = 1000000'",
     "output_type": "error",
     "traceback": [
      "\u001b[0;31m---------------------------------------------------------------------------\u001b[0m",
      "\u001b[0;31mFileNotFoundError\u001b[0m                         Traceback (most recent call last)",
      "\u001b[0;32m<ipython-input-4-874d58278958>\u001b[0m in \u001b[0;36m<module>\u001b[0;34m\u001b[0m\n\u001b[0;32m----> 1\u001b[0;31m \u001b[0mget_ipython\u001b[0m\u001b[0;34m(\u001b[0m\u001b[0;34m)\u001b[0m\u001b[0;34m.\u001b[0m\u001b[0mrun_line_magic\u001b[0m\u001b[0;34m(\u001b[0m\u001b[0;34m'more'\u001b[0m\u001b[0;34m,\u001b[0m \u001b[0;34m'@ = 1000000'\u001b[0m\u001b[0;34m)\u001b[0m\u001b[0;34m\u001b[0m\u001b[0;34m\u001b[0m\u001b[0m\n\u001b[0m",
      "\u001b[0;32m~/.local/lib/python3.6/site-packages/IPython/core/interactiveshell.py\u001b[0m in \u001b[0;36mrun_line_magic\u001b[0;34m(self, magic_name, line, _stack_depth)\u001b[0m\n\u001b[1;32m   2315\u001b[0m                 \u001b[0mkwargs\u001b[0m\u001b[0;34m[\u001b[0m\u001b[0;34m'local_ns'\u001b[0m\u001b[0;34m]\u001b[0m \u001b[0;34m=\u001b[0m \u001b[0msys\u001b[0m\u001b[0;34m.\u001b[0m\u001b[0m_getframe\u001b[0m\u001b[0;34m(\u001b[0m\u001b[0mstack_depth\u001b[0m\u001b[0;34m)\u001b[0m\u001b[0;34m.\u001b[0m\u001b[0mf_locals\u001b[0m\u001b[0;34m\u001b[0m\u001b[0;34m\u001b[0m\u001b[0m\n\u001b[1;32m   2316\u001b[0m             \u001b[0;32mwith\u001b[0m \u001b[0mself\u001b[0m\u001b[0;34m.\u001b[0m\u001b[0mbuiltin_trap\u001b[0m\u001b[0;34m:\u001b[0m\u001b[0;34m\u001b[0m\u001b[0;34m\u001b[0m\u001b[0m\n\u001b[0;32m-> 2317\u001b[0;31m                 \u001b[0mresult\u001b[0m \u001b[0;34m=\u001b[0m \u001b[0mfn\u001b[0m\u001b[0;34m(\u001b[0m\u001b[0;34m*\u001b[0m\u001b[0margs\u001b[0m\u001b[0;34m,\u001b[0m \u001b[0;34m**\u001b[0m\u001b[0mkwargs\u001b[0m\u001b[0;34m)\u001b[0m\u001b[0;34m\u001b[0m\u001b[0;34m\u001b[0m\u001b[0m\n\u001b[0m\u001b[1;32m   2318\u001b[0m             \u001b[0;32mreturn\u001b[0m \u001b[0mresult\u001b[0m\u001b[0;34m\u001b[0m\u001b[0;34m\u001b[0m\u001b[0m\n\u001b[1;32m   2319\u001b[0m \u001b[0;34m\u001b[0m\u001b[0m\n",
      "\u001b[0;32m<decorator-gen-118>\u001b[0m in \u001b[0;36mless\u001b[0;34m(self, arg_s)\u001b[0m\n",
      "\u001b[0;32m~/.local/lib/python3.6/site-packages/IPython/core/magic.py\u001b[0m in \u001b[0;36m<lambda>\u001b[0;34m(f, *a, **k)\u001b[0m\n\u001b[1;32m    185\u001b[0m     \u001b[0;31m# but it's overkill for just that one bit of state.\u001b[0m\u001b[0;34m\u001b[0m\u001b[0;34m\u001b[0m\u001b[0;34m\u001b[0m\u001b[0m\n\u001b[1;32m    186\u001b[0m     \u001b[0;32mdef\u001b[0m \u001b[0mmagic_deco\u001b[0m\u001b[0;34m(\u001b[0m\u001b[0marg\u001b[0m\u001b[0;34m)\u001b[0m\u001b[0;34m:\u001b[0m\u001b[0;34m\u001b[0m\u001b[0;34m\u001b[0m\u001b[0m\n\u001b[0;32m--> 187\u001b[0;31m         \u001b[0mcall\u001b[0m \u001b[0;34m=\u001b[0m \u001b[0;32mlambda\u001b[0m \u001b[0mf\u001b[0m\u001b[0;34m,\u001b[0m \u001b[0;34m*\u001b[0m\u001b[0ma\u001b[0m\u001b[0;34m,\u001b[0m \u001b[0;34m**\u001b[0m\u001b[0mk\u001b[0m\u001b[0;34m:\u001b[0m \u001b[0mf\u001b[0m\u001b[0;34m(\u001b[0m\u001b[0;34m*\u001b[0m\u001b[0ma\u001b[0m\u001b[0;34m,\u001b[0m \u001b[0;34m**\u001b[0m\u001b[0mk\u001b[0m\u001b[0;34m)\u001b[0m\u001b[0;34m\u001b[0m\u001b[0;34m\u001b[0m\u001b[0m\n\u001b[0m\u001b[1;32m    188\u001b[0m \u001b[0;34m\u001b[0m\u001b[0m\n\u001b[1;32m    189\u001b[0m         \u001b[0;32mif\u001b[0m \u001b[0mcallable\u001b[0m\u001b[0;34m(\u001b[0m\u001b[0marg\u001b[0m\u001b[0;34m)\u001b[0m\u001b[0;34m:\u001b[0m\u001b[0;34m\u001b[0m\u001b[0;34m\u001b[0m\u001b[0m\n",
      "\u001b[0;32m~/.local/lib/python3.6/site-packages/ipykernel/zmqshell.py\u001b[0m in \u001b[0;36mless\u001b[0;34m(self, arg_s)\u001b[0m\n\u001b[1;32m    340\u001b[0m             \u001b[0mcont\u001b[0m \u001b[0;34m=\u001b[0m \u001b[0mself\u001b[0m\u001b[0;34m.\u001b[0m\u001b[0mshell\u001b[0m\u001b[0;34m.\u001b[0m\u001b[0mpycolorize\u001b[0m\u001b[0;34m(\u001b[0m\u001b[0mopenpy\u001b[0m\u001b[0;34m.\u001b[0m\u001b[0mread_py_file\u001b[0m\u001b[0;34m(\u001b[0m\u001b[0marg_s\u001b[0m\u001b[0;34m,\u001b[0m \u001b[0mskip_encoding_cookie\u001b[0m\u001b[0;34m=\u001b[0m\u001b[0;32mFalse\u001b[0m\u001b[0;34m)\u001b[0m\u001b[0;34m)\u001b[0m\u001b[0;34m\u001b[0m\u001b[0;34m\u001b[0m\u001b[0m\n\u001b[1;32m    341\u001b[0m         \u001b[0;32melse\u001b[0m\u001b[0;34m:\u001b[0m\u001b[0;34m\u001b[0m\u001b[0;34m\u001b[0m\u001b[0m\n\u001b[0;32m--> 342\u001b[0;31m             \u001b[0mcont\u001b[0m \u001b[0;34m=\u001b[0m \u001b[0mopen\u001b[0m\u001b[0;34m(\u001b[0m\u001b[0marg_s\u001b[0m\u001b[0;34m)\u001b[0m\u001b[0;34m.\u001b[0m\u001b[0mread\u001b[0m\u001b[0;34m(\u001b[0m\u001b[0;34m)\u001b[0m\u001b[0;34m\u001b[0m\u001b[0;34m\u001b[0m\u001b[0m\n\u001b[0m\u001b[1;32m    343\u001b[0m         \u001b[0mpage\u001b[0m\u001b[0;34m.\u001b[0m\u001b[0mpage\u001b[0m\u001b[0;34m(\u001b[0m\u001b[0mcont\u001b[0m\u001b[0;34m)\u001b[0m\u001b[0;34m\u001b[0m\u001b[0;34m\u001b[0m\u001b[0m\n\u001b[1;32m    344\u001b[0m \u001b[0;34m\u001b[0m\u001b[0m\n",
      "\u001b[0;31mFileNotFoundError\u001b[0m: [Errno 2] No such file or directory: '@ = 1000000'"
     ]
    }
   ],
   "source": [
    "more@ = 1000000"
   ]
  },
  {
   "cell_type": "code",
   "execution_count": 5,
   "metadata": {
    "collapsed": true
   },
   "outputs": [
    {
     "ename": "SyntaxError",
     "evalue": "invalid syntax (<ipython-input-5-73fc4ce1a15a>, line 1)",
     "output_type": "error",
     "traceback": [
      "\u001b[0;36m  File \u001b[0;32m\"<ipython-input-5-73fc4ce1a15a>\"\u001b[0;36m, line \u001b[0;32m1\u001b[0m\n\u001b[0;31m    class = 'Advanced Theoretical Zymurgy'\u001b[0m\n\u001b[0m          ^\u001b[0m\n\u001b[0;31mSyntaxError\u001b[0m\u001b[0;31m:\u001b[0m invalid syntax\n"
     ]
    }
   ],
   "source": [
    "class = 'Advanced Theoretical Zymurgy'"
   ]
  },
  {
   "cell_type": "markdown",
   "metadata": {},
   "source": [
    "*76trombones* is illegal because it begins with a number.\n",
    "\n",
    "*more@* is illegal because it contains an illegal character, *@*.  \n",
    "\n",
    "But what's wrong with *class*?\n",
    "\n",
    "It turns out that *class* is one of Python's **keywords**.  The\n",
    "interpreter uses keywords to recognize the structure of the program,\n",
    "and they cannot be used as variable names.\n",
    "\n",
    "Python 3 has these keywords:\n",
    "\n",
    "> False      class      finally    is         return\n",
    "> None       continue   for        lambda     try\n",
    "> True       def        from       nonlocal   while\n",
    "> and        del        global     not        with\n",
    "> as         elif       if         or         yield\n",
    "> assert     else       import     pass\n",
    "> break      except     in         raise\n",
    "\n",
    "You don't have to memorize this list.  In most development environments,\n",
    "keywords are displayed in a different color; if you try to use one\n",
    "as a variable name, you'll know."
   ]
  },
  {
   "cell_type": "markdown",
   "metadata": {},
   "source": [
    "## Expressions and statements\n",
    "\n",
    "An **expression** is a combination of values, variables, and operators.\n",
    "A value all by itself is considered an expression, and so is\n",
    "a variable, so the following are all legal expressions:"
   ]
  },
  {
   "cell_type": "code",
   "execution_count": null,
   "metadata": {},
   "outputs": [],
   "source": [
    "42"
   ]
  },
  {
   "cell_type": "code",
   "execution_count": 8,
   "metadata": {},
   "outputs": [
    {
     "data": {
      "text/plain": [
       "17"
      ]
     },
     "execution_count": 8,
     "metadata": {},
     "output_type": "execute_result"
    }
   ],
   "source": [
    "n"
   ]
  },
  {
   "cell_type": "code",
   "execution_count": 7,
   "metadata": {},
   "outputs": [
    {
     "data": {
      "text/plain": [
       "42"
      ]
     },
     "execution_count": 7,
     "metadata": {},
     "output_type": "execute_result"
    }
   ],
   "source": [
    "n+25"
   ]
  },
  {
   "cell_type": "markdown",
   "metadata": {},
   "source": [
    "When you type an expression at the prompt, the interpreter\n",
    "**evaluates** it, which means that it finds the value of\n",
    "the expression.\n",
    "In this example, *n* has the value 17 and\n",
    "*n + 25* has the value 42.\n",
    "\n",
    "A **statement** is a unit of code that has an effect, like\n",
    "creating a variable or displaying a value."
   ]
  },
  {
   "cell_type": "code",
   "execution_count": 11,
   "metadata": {},
   "outputs": [
    {
     "name": "stdout",
     "output_type": "stream",
     "text": [
      "17\n"
     ]
    }
   ],
   "source": [
    "n = 17\n",
    "print(n)"
   ]
  },
  {
   "cell_type": "markdown",
   "metadata": {},
   "source": [
    "The first line is an assignment statement that gives a value to\n",
    "*n*.  The second line is a print statement that displays the\n",
    "value of *n*.\n",
    "\n",
    "When you type a statement, the interpreter **executes** it,\n",
    "which means that it does whatever the statement says.  In general,\n",
    "statements don't have values."
   ]
  },
  {
   "cell_type": "markdown",
   "metadata": {},
   "source": [
    "## Order of operations\n",
    "\n",
    "When an expression contains more than one operator, the order of\n",
    "evaluation depends on the **order of operations**.  For\n",
    "mathematical operators, Python follows mathematical convention.\n",
    "I don't work very hard to remember the precedence of\n",
    "operators.  If I can't tell by looking at the expression, I use\n",
    "parentheses to make it obvious."
   ]
  },
  {
   "cell_type": "markdown",
   "metadata": {},
   "source": [
    "## String operations\n",
    "\n",
    "In general, you can't perform mathematical operations on strings, even\n",
    "if the strings look like numbers, so the following are illegal:\n",
    "\n",
    ">'chinese'-'food'\n",
    "> 'eggs'/'easy'\n",
    "> 'third'*'a charm'\n",
    "\n",
    "But there are two exceptions, + and \\*.\n",
    "\n",
    "The + operator performs **string concatenation**, which means\n",
    "it joins the strings by linking them end-to-end.  For example:"
   ]
  },
  {
   "cell_type": "code",
   "execution_count": 12,
   "metadata": {},
   "outputs": [
    {
     "name": "stdout",
     "output_type": "stream",
     "text": [
      "throatwarbler\n"
     ]
    }
   ],
   "source": [
    "first = 'throat'\n",
    "second = 'warbler'\n",
    "s = first + second\n",
    "print(s)"
   ]
  },
  {
   "cell_type": "markdown",
   "metadata": {},
   "source": [
    "The \\* operator also works on strings; it performs repetition.\n",
    "For example: "
   ]
  },
  {
   "cell_type": "code",
   "execution_count": 13,
   "metadata": {},
   "outputs": [
    {
     "name": "stdout",
     "output_type": "stream",
     "text": [
      "SpamSpamSpam\n"
     ]
    }
   ],
   "source": [
    "print(\"Spam\"*3)"
   ]
  },
  {
   "cell_type": "markdown",
   "metadata": {},
   "source": [
    "This use of + and \\* makes sense by\n",
    "analogy with addition and multiplication.  Just as 4\\*3 is\n",
    "equivalent to 4+4+4, we expect \"Spam\"*3 to be the same as\n",
    "\"Spam\"+\"Spam\"+\"Spam\", and it is. "
   ]
  },
  {
   "cell_type": "markdown",
   "metadata": {},
   "source": [
    "## Comments\n",
    "\n",
    "As programs get bigger and more complicated, they get more difficult\n",
    "to read.  Formal languages are dense, and it is often difficult to\n",
    "look at a piece of code and figure out what it is doing, or why.\n",
    "\n",
    "For this reason, it is a good idea to add notes to your programs to explain\n",
    "in natural language what the program is doing.  These notes are called\n",
    "**comments**, and they start with the \\# symbol:"
   ]
  },
  {
   "cell_type": "code",
   "execution_count": 18,
   "metadata": {},
   "outputs": [
    {
     "name": "stdout",
     "output_type": "stream",
     "text": [
      "71.66666666666667\n"
     ]
    }
   ],
   "source": [
    "minute=43\n",
    "\n",
    "# compute the percentage of the hour that has elapsed\n",
    "percentage = (minute * 100) / 60\n",
    "\n",
    "print(percentage)"
   ]
  },
  {
   "cell_type": "markdown",
   "metadata": {},
   "source": [
    "In this case, the comment appears on a line by itself.  You can also put\n",
    "comments at the end of a line:"
   ]
  },
  {
   "cell_type": "code",
   "execution_count": 19,
   "metadata": {},
   "outputs": [],
   "source": [
    "percentage = (minute * 100) / 60     # percentage of an hour"
   ]
  },
  {
   "cell_type": "markdown",
   "metadata": {},
   "source": [
    "Everything from the \\# to the end of the line is ignored---it\n",
    "has no effect on the execution of the program.\n",
    "\n",
    "Comments are most useful when they document non-obvious features of\n",
    "the code.  It is reasonable to assume that the reader can figure out\n",
    "*what* the code does; it is more useful to explain *why*.\n",
    "\n",
    "This comment is redundant with the code and useless:"
   ]
  },
  {
   "cell_type": "code",
   "execution_count": 20,
   "metadata": {},
   "outputs": [],
   "source": [
    "v = 5     # assign 5 to v"
   ]
  },
  {
   "cell_type": "markdown",
   "metadata": {},
   "source": [
    "This comment contains useful information that is not in the code:"
   ]
  },
  {
   "cell_type": "code",
   "execution_count": 21,
   "metadata": {},
   "outputs": [],
   "source": [
    "v = 5     # velocity in meters/second."
   ]
  },
  {
   "cell_type": "markdown",
   "metadata": {},
   "source": [
    "Good variable names can reduce the need for comments, but\n",
    "long names can make complex expressions hard to read, so there is\n",
    "a tradeoff."
   ]
  },
  {
   "cell_type": "markdown",
   "metadata": {},
   "source": [
    "**EXERCISES**\n",
    "\n",
    "Whenever you learn\n",
    "a new feature, you should try it out in interactive mode and make\n",
    "errors on purpose to see what goes wrong.\n",
    "\n",
    "- We've seen that *n = 42* is legal.  What about *42 = n*?\n",
    "- How about *x = y = 1*?\n",
    "- In some languages every statement ends with a semi-colon, \";\". What happens if you put a semi-colon at the end of a Python statement?\n",
    "- What if you put a period at the end of a statement?\n",
    "- In math notation you can multiply $x$ and $y$ like this: $x y$.\n",
    "What happens if you try that in Python?\n",
    "\n",
    "Try it our here:"
   ]
  },
  {
   "cell_type": "code",
   "execution_count": null,
   "metadata": {},
   "outputs": [],
   "source": []
  },
  {
   "cell_type": "markdown",
   "metadata": {},
   "source": [
    "Practice using the Python interpreter as a calculator:\n",
    "- The volume of a sphere with radius $r$ is $\\frac{4}{3} \\pi r^3$.\n",
    "  What is the volume of a sphere with radius 5?\n",
    "- Suppose the cover price of a book is \\$24.95, but bookstores get a\n",
    "  40\\% discount.  Shipping costs \\$3 for the first copy and 75 cents\n",
    "  for each additional copy.  What is the total wholesale cost for\n",
    "  60 copies?\n",
    "- If I leave my house at 6:52 am and run 1 mile at an easy pace\n",
    "  (8:15 per mile), then 3 miles at tempo (7:12 per mile) and 1 mile at\n",
    "  easy pace again, what time do I get home for breakfast?"
   ]
  },
  {
   "cell_type": "code",
   "execution_count": 22,
   "metadata": {},
   "outputs": [],
   "source": [
    "# Here goes solution 1"
   ]
  },
  {
   "cell_type": "code",
   "execution_count": 23,
   "metadata": {},
   "outputs": [],
   "source": [
    "# Here goes solution 2"
   ]
  },
  {
   "cell_type": "code",
   "execution_count": 24,
   "metadata": {},
   "outputs": [],
   "source": [
    "# Here goes solution 3"
   ]
  }
 ],
 "metadata": {
  "kernelspec": {
   "display_name": "Python 3",
   "language": "python",
   "name": "python3"
  },
  "language_info": {
   "codemirror_mode": {
    "name": "ipython",
    "version": 3
   },
   "file_extension": ".py",
   "mimetype": "text/x-python",
   "name": "python",
   "nbconvert_exporter": "python",
   "pygments_lexer": "ipython3",
   "version": "3.6.9"
  }
 },
 "nbformat": 4,
 "nbformat_minor": 2
}
