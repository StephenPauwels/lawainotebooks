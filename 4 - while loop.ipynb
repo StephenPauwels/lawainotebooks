{
 "cells": [
  {
   "cell_type": "markdown",
   "metadata": {},
   "source": [
    "# Chapter Iteration\n",
    "\n",
    "This chapter is about iteration, which is the ability to run\n",
    "a block of statements repeatedly. \n",
    "\n",
    "As you may have discovered, it is legal to make more than one\n",
    "assignment to the same variable.  A new assignment makes an existing\n",
    "variable refer to a new value (and stop referring to the old value)."
   ]
  },
  {
   "cell_type": "code",
   "execution_count": 17,
   "metadata": {},
   "outputs": [
    {
     "name": "stdout",
     "output_type": "stream",
     "text": [
      "5\n",
      "7\n"
     ]
    }
   ],
   "source": [
    "x = 5\n",
    "print(x)\n",
    "x = 7\n",
    "print(x)"
   ]
  },
  {
   "cell_type": "markdown",
   "metadata": {},
   "source": [
    "The first time we display\n",
    "*x*, its value is 5; the second time, its\n",
    "value is 7.\n",
    "\n",
    "At this point I want to address a common source of\n",
    "confusion. Because Python uses the equal sign (=) for assignment, it is\n",
    "tempting to interpret a statement like *a = b* as a\n",
    "mathematical\n",
    "proposition of equality; that is, the claim that *a* and\n",
    "*b* are equal.  But this interpretation is wrong.\n",
    "\n",
    "First, equality is a symmetric relationship and assignment is not.  For\n",
    "example, in mathematics, if $a=7$ then $7=a$.  But in Python, the\n",
    "statement *a = 7* is legal and *7 = a* is not.\n",
    "\n",
    "Also, in mathematics, a proposition of equality is either true or\n",
    "false for all time.  If $a=b$ now, then $a$ will always equal $b$.\n",
    "In Python, an assignment statement can make two variables equal, but\n",
    "they don't have to stay that way:"
   ]
  },
  {
   "cell_type": "code",
   "execution_count": 18,
   "metadata": {},
   "outputs": [
    {
     "name": "stdout",
     "output_type": "stream",
     "text": [
      "5\n"
     ]
    }
   ],
   "source": [
    "a = 5\n",
    "b = a    # a and b are now equal\n",
    "a = 3    # a and b are no longer equal\n",
    "print(b)"
   ]
  },
  {
   "cell_type": "markdown",
   "metadata": {},
   "source": [
    "The third line changes the value of *a* but does not change the\n",
    "value of *b*, so they are no longer equal.\n",
    "\n",
    "Reassigning variables is often useful, but you should use it\n",
    "with caution.  If the values of variables change frequently, it can\n",
    "make the code difficult to read and debug."
   ]
  },
  {
   "cell_type": "markdown",
   "metadata": {},
   "source": [
    "## Updating variables\n",
    "\n",
    "A common kind of reassignment is an {\\bf update},\n",
    "where the new value of the variable depends on the old."
   ]
  },
  {
   "cell_type": "code",
   "execution_count": 19,
   "metadata": {},
   "outputs": [],
   "source": [
    "x = x + 1"
   ]
  },
  {
   "cell_type": "markdown",
   "metadata": {},
   "source": [
    "This means \"get the current value of *x*, add one, and then\n",
    "update *x* with the new value.\"\n",
    "\n",
    "If you try to update a variable that doesn't exist, you get an\n",
    "error, because Python evaluates the right side before it assigns\n",
    "a value to *a*:"
   ]
  },
  {
   "cell_type": "code",
   "execution_count": 21,
   "metadata": {},
   "outputs": [
    {
     "ename": "NameError",
     "evalue": "name 'z' is not defined",
     "output_type": "error",
     "traceback": [
      "\u001b[0;31m---------------------------------------------------------------------------\u001b[0m",
      "\u001b[0;31mNameError\u001b[0m                                 Traceback (most recent call last)",
      "\u001b[0;32m<ipython-input-21-99abefbd9afb>\u001b[0m in \u001b[0;36m<module>\u001b[0;34m\u001b[0m\n\u001b[0;32m----> 1\u001b[0;31m \u001b[0mz\u001b[0m \u001b[0;34m=\u001b[0m \u001b[0mz\u001b[0m \u001b[0;34m+\u001b[0m \u001b[0;36m1\u001b[0m\u001b[0;34m\u001b[0m\u001b[0;34m\u001b[0m\u001b[0m\n\u001b[0m",
      "\u001b[0;31mNameError\u001b[0m: name 'z' is not defined"
     ]
    }
   ],
   "source": [
    "z = z + 1"
   ]
  },
  {
   "cell_type": "markdown",
   "metadata": {},
   "source": [
    "Before you can update a variable, you have to **initialize**\n",
    "it, usually with a simple assignment:"
   ]
  },
  {
   "cell_type": "code",
   "execution_count": 22,
   "metadata": {},
   "outputs": [],
   "source": [
    "z = 0\n",
    "z = z + 1"
   ]
  },
  {
   "cell_type": "markdown",
   "metadata": {},
   "source": [
    "Updating a variable by adding 1 is called an **increment**;\n",
    "subtracting 1 is called a **decrement**."
   ]
  },
  {
   "cell_type": "markdown",
   "metadata": {},
   "source": [
    "## The *while* statement\n",
    "\n",
    "Computers are often used to automate repetitive tasks.  Repeating\n",
    "identical or similar tasks without making errors is something that\n",
    "computers do well and people do poorly.  In a computer program,\n",
    "repetition is also called **iteration**.\n",
    "\n",
    "Here is an example of a so-called *while*-loop that repeats decrementing a variable until it is zero:"
   ]
  },
  {
   "cell_type": "code",
   "execution_count": 23,
   "metadata": {},
   "outputs": [
    {
     "name": "stdout",
     "output_type": "stream",
     "text": [
      "10\n",
      "9\n",
      "8\n",
      "7\n",
      "6\n",
      "5\n",
      "4\n",
      "3\n",
      "2\n",
      "1\n",
      "Blastoff!\n"
     ]
    }
   ],
   "source": [
    "n=10\n",
    "while n > 0:\n",
    "    print(n)\n",
    "    n = n - 1\n",
    "print('Blastoff!')"
   ]
  },
  {
   "cell_type": "markdown",
   "metadata": {},
   "source": [
    "You can almost read the *while* statement as if it were English.\n",
    "It means, \"While *n* is greater than 0,\n",
    "display the value of *n* and then decrement *n*.  When you get to 0, display the word *Blastoff!*\n",
    "\n",
    "More formally, here is the flow of execution for a *while* statement:\n",
    "\n",
    "1. Determine whether the condition is true or false.\n",
    "2. If false, exit the *while* statement\n",
    "and continue execution at the next statement.\n",
    "3. If the condition is true, run the\n",
    "body and then go back to step 1.\n",
    "\n",
    "This type of flow is called a loop because the third step\n",
    "loops back around to the top.\n",
    "\n",
    "The body of the loop should change the value of one or more variables\n",
    "so that the condition becomes false eventually and the loop\n",
    "terminates.  Otherwise the loop will repeat forever, which is called\n",
    "an **infinite loop**.  An endless source of amusement for computer\n",
    "scientists is the observation that the directions on shampoo,\n",
    "\"Lather, rinse, repeat\", are an infinite loop.\n",
    "\n",
    "In the case of *countdown*, we can prove that the loop\n",
    "terminates: if *n* is zero or negative, the loop never runs.\n",
    "Otherwise, *n* gets smaller each time through the\n",
    "loop, so eventually we have to get to 0.\n",
    "\n",
    "For some other loops, it is not so easy to tell.  For example:"
   ]
  },
  {
   "cell_type": "code",
   "execution_count": 24,
   "metadata": {},
   "outputs": [
    {
     "name": "stdout",
     "output_type": "stream",
     "text": [
      "7\n",
      "22\n",
      "11.0\n",
      "34.0\n",
      "17.0\n",
      "52.0\n",
      "26.0\n",
      "13.0\n",
      "40.0\n",
      "20.0\n",
      "10.0\n",
      "5.0\n",
      "16.0\n",
      "8.0\n",
      "4.0\n",
      "2.0\n"
     ]
    }
   ],
   "source": [
    "n=7\n",
    "while n != 1:\n",
    "    print(n)\n",
    "    if n % 2 == 0:        # n is even\n",
    "        n = n / 2\n",
    "    else:                 # n is odd\n",
    "        n = n*3 + 1"
   ]
  },
  {
   "cell_type": "markdown",
   "metadata": {},
   "source": [
    "The condition for this loop is *n != 1*, so the loop will continue\n",
    "until *n* is *1*, which makes the condition false.\n",
    "\n",
    "Each time through the loop, the program outputs the value of *n*\n",
    "and then checks whether it is even or odd.  If it is even, *n* is\n",
    "divided by 2.  If it is odd, the value of *n* is replaced with\n",
    "*n*3 + 1*. For example, if the argument passed to *sequence*\n",
    "is 3, the resulting values of *n* are 3, 10, 5, 16, 8, 4, 2, 1.\n",
    "\n",
    "Since *n* sometimes increases and sometimes decreases, there is no\n",
    "obvious proof that *n* will ever reach 1, or that the program\n",
    "terminates.  For some particular values of *n*, we can prove\n",
    "termination.  For example, if the starting value is a power of two,\n",
    "*n* will be even every time through the loop\n",
    "until it reaches 1. The previous example ends with such a sequence,\n",
    "starting with 16.\n",
    "\n",
    "The hard question is whether we can prove that this program terminates\n",
    "for *all* positive values of *n*.  So far, no one has\n",
    "been able to prove it *or* disprove it!  (See [http://en.wikipedia.org/wiki/Collatz_conjecture].)\n"
   ]
  },
  {
   "cell_type": "markdown",
   "metadata": {},
   "source": [
    "As an exercise write a while loop that prints a string s, n times"
   ]
  },
  {
   "cell_type": "code",
   "execution_count": 25,
   "metadata": {},
   "outputs": [],
   "source": [
    "# your code here"
   ]
  },
  {
   "cell_type": "markdown",
   "metadata": {},
   "source": [
    "Sometimes you don't know it's time to end a loop until you get half\n",
    "way through the body.  In that case you can use the *break*\n",
    "statement to jump out of the loop.\n",
    "\n",
    "For example, suppose you want to take input from the user until they\n",
    "type *done*.  You could write:"
   ]
  },
  {
   "cell_type": "code",
   "execution_count": 26,
   "metadata": {},
   "outputs": [
    {
     "name": "stdout",
     "output_type": "stream",
     "text": [
      "> done\n",
      "Done!\n"
     ]
    }
   ],
   "source": [
    "while True:\n",
    "    line = input('> ')\n",
    "    if line == 'done':\n",
    "        break\n",
    "    print(line)\n",
    "\n",
    "print('Done!')"
   ]
  },
  {
   "cell_type": "markdown",
   "metadata": {},
   "source": [
    "The loop condition is *True*, which is always true, so the\n",
    "loop runs until it hits the break statement.\n",
    "\n",
    "Each time through, it prompts the user with an angle bracket.\n",
    "If the user types *done*, the *break* statement exits\n",
    "the loop.  Otherwise the program echoes whatever the user types\n",
    "and goes back to the top of the loop. You can try out the code above with a number of inputs."
   ]
  },
  {
   "cell_type": "markdown",
   "metadata": {},
   "source": [
    "This way of writing *while* loops is common because you\n",
    "can check the condition anywhere in the loop (not just at the\n",
    "top) and you can express the stop condition affirmatively\n",
    "(\"stop when this happens\") rather than negatively (\"keep going\n",
    "until that happens\")."
   ]
  },
  {
   "cell_type": "markdown",
   "metadata": {},
   "source": [
    "## Square roots\n",
    "\n",
    "Loops are often used in programs that compute\n",
    "numerical results by starting with an approximate answer and\n",
    "iteratively improving it.\n",
    "\n",
    "For example, one way of computing square roots is Newton's method.\n",
    "Suppose that you want to know the square root of $a$.  If you start\n",
    "with almost any estimate, $x$, you can compute a better\n",
    "estimate with the following formula:\n",
    "\n",
    "$$y = \\frac{x + a/x}{2}$$\n",
    "\n",
    "For example, if $a$ is 4 and $x$ is 3:"
   ]
  },
  {
   "cell_type": "code",
   "execution_count": 27,
   "metadata": {},
   "outputs": [
    {
     "name": "stdout",
     "output_type": "stream",
     "text": [
      "2.1666666666666665\n"
     ]
    }
   ],
   "source": [
    "a = 4\n",
    "x = 3\n",
    "y = (x + a/x) / 2\n",
    "print(y)"
   ]
  },
  {
   "cell_type": "markdown",
   "metadata": {},
   "source": [
    "The result is closer to the correct answer ($\\sqrt{4} = 2$).  If we\n",
    "repeat the process with the new estimate, it gets even closer:"
   ]
  },
  {
   "cell_type": "code",
   "execution_count": 28,
   "metadata": {},
   "outputs": [
    {
     "name": "stdout",
     "output_type": "stream",
     "text": [
      "2.0064102564102564\n"
     ]
    }
   ],
   "source": [
    "x = y\n",
    "y = (x + a/x) / 2\n",
    "print(y)"
   ]
  },
  {
   "cell_type": "markdown",
   "metadata": {},
   "source": [
    "After a few more updates, the estimate is almost exact:"
   ]
  },
  {
   "cell_type": "code",
   "execution_count": 29,
   "metadata": {},
   "outputs": [
    {
     "name": "stdout",
     "output_type": "stream",
     "text": [
      "2.0000102400262145\n",
      "2.0000000000262146\n",
      "2.0\n"
     ]
    }
   ],
   "source": [
    "x = y\n",
    "y = (x + a/x) / 2\n",
    "print(y)\n",
    "x = y\n",
    "y = (x + a/x) / 2\n",
    "print(y)\n",
    "x = y\n",
    "y = (x + a/x) / 2\n",
    "print(y)"
   ]
  },
  {
   "cell_type": "markdown",
   "metadata": {},
   "source": [
    "In general we don't know ahead of time how many steps it takes\n",
    "to get to the right answer, but we know when we get there\n",
    "because the estimate\n",
    "stops changing:"
   ]
  },
  {
   "cell_type": "code",
   "execution_count": 30,
   "metadata": {},
   "outputs": [
    {
     "name": "stdout",
     "output_type": "stream",
     "text": [
      "2.0\n",
      "2.0\n"
     ]
    }
   ],
   "source": [
    "x = y\n",
    "y = (x + a/x) / 2\n",
    "print(y)\n",
    "x = y\n",
    "y = (x + a/x) / 2\n",
    "print(y)"
   ]
  },
  {
   "cell_type": "markdown",
   "metadata": {},
   "source": [
    "When *y == x*, we can stop.  Here is a loop that starts\n",
    "with an initial estimate, *x*, and improves it until it\n",
    "stops changing:"
   ]
  },
  {
   "cell_type": "code",
   "execution_count": 31,
   "metadata": {},
   "outputs": [
    {
     "name": "stdout",
     "output_type": "stream",
     "text": [
      "3\n",
      "2.1666666666666665\n",
      "2.0064102564102564\n",
      "2.0000102400262145\n",
      "2.0000000000262146\n",
      "2.0\n",
      "2.0\n"
     ]
    }
   ],
   "source": [
    "a=4\n",
    "x=3\n",
    "while True:\n",
    "    print(x)\n",
    "    y = (x + a/x) / 2\n",
    "    if y == x:\n",
    "        break\n",
    "    x = y\n",
    "print(x)"
   ]
  },
  {
   "cell_type": "markdown",
   "metadata": {},
   "source": [
    "For most values of *a* this works fine, but in general it is\n",
    "dangerous to test *float* equality.\n",
    "Floating-point values are only approximately right:\n",
    "most rational numbers, like $1/3$, and irrational numbers, like\n",
    "$\\sqrt{2}$, can't be represented exactly with a *float*.\n",
    "\n",
    "Rather than checking whether *x* and *y* are exactly equal, it\n",
    "is safer to use the built-in function *abs* to compute the\n",
    "absolute value, or magnitude, of the difference between them:"
   ]
  },
  {
   "cell_type": "code",
   "execution_count": 32,
   "metadata": {},
   "outputs": [
    {
     "name": "stdout",
     "output_type": "stream",
     "text": [
      "3\n",
      "2.1666666666666665\n",
      "2.0064102564102564\n",
      "2.0000102400262145\n",
      "2.0000000000262146\n",
      "2.0000000000262146\n"
     ]
    }
   ],
   "source": [
    "a=4\n",
    "x=3\n",
    "epsilon=0.0000001\n",
    "while True:\n",
    "    print(x)\n",
    "    y = (x + a/x) / 2\n",
    "    if abs(y-x) < epsilon:\n",
    "        break\n",
    "    x = y\n",
    "print(x)"
   ]
  },
  {
   "cell_type": "markdown",
   "metadata": {},
   "source": [
    "## Exercises\n",
    "\n",
    "**Exercise 1 - Easy** \n",
    "\n",
    "Write a program that asks the user to input a number $n$, and then produces the following list:"
   ]
  },
  {
   "cell_type": "raw",
   "metadata": {},
   "source": [
    "1  1\n",
    "2  4\n",
    "3  9\n",
    "...\n",
    "n  [square of n]"
   ]
  },
  {
   "cell_type": "code",
   "execution_count": 1,
   "metadata": {},
   "outputs": [],
   "source": [
    "# Your code goes here"
   ]
  },
  {
   "cell_type": "markdown",
   "metadata": {},
   "source": [
    "**Exercise 2 - Medium**\n",
    "\n",
    "Write a program that asks the user to input a number $n$, and then produces the following list:"
   ]
  },
  {
   "cell_type": "raw",
   "metadata": {},
   "source": [
    "1  1\n",
    "2  5\n",
    "3  14\n",
    "...\n",
    "n  [sum 1**2+2**2+...+n**2]"
   ]
  },
  {
   "cell_type": "code",
   "execution_count": null,
   "metadata": {},
   "outputs": [],
   "source": []
  },
  {
   "cell_type": "markdown",
   "metadata": {},
   "source": [
    "**Exercise 3 - HARD** \n",
    "\n",
    "The mathematician Srinivasa Ramanujan found an\n",
    "infinite series\n",
    "that can be used to generate a numerical\n",
    "approximation of $1 / \\pi$:\n",
    "\n",
    "$$\\frac{1}{\\pi} = \\frac{2\\sqrt{2}}{9801}\n",
    "\\sum^\\infty_{k=0} \\frac{(4k)!(1103+26390k)}{(k!)^4 396^{4k}}$$\n",
    "\n",
    "Write a program that uses this formula\n",
    "to compute and return an estimate of $\\pi$.  It should use a *while*\n",
    "loop to compute terms of the summation until the last term is\n",
    "smaller than *1e-15* (which is Python notation for $10^{-15}$).\n",
    "You can check the result by comparing it to *math.pi*."
   ]
  },
  {
   "cell_type": "code",
   "execution_count": null,
   "metadata": {},
   "outputs": [],
   "source": [
    "# Type your solution here"
   ]
  }
 ],
 "metadata": {
  "kernelspec": {
   "display_name": "Python 3",
   "language": "python",
   "name": "python3"
  },
  "language_info": {
   "codemirror_mode": {
    "name": "ipython",
    "version": 3
   },
   "file_extension": ".py",
   "mimetype": "text/x-python",
   "name": "python",
   "nbconvert_exporter": "python",
   "pygments_lexer": "ipython3",
   "version": "3.6.9"
  }
 },
 "nbformat": 4,
 "nbformat_minor": 2
}
